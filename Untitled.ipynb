{
 "cells": [
  {
   "cell_type": "code",
   "execution_count": 1,
   "metadata": {},
   "outputs": [],
   "source": [
    "import numpy as np\n",
    "import matplotlib.pyplot as plt\n",
    "import math"
   ]
  },
  {
   "cell_type": "code",
   "execution_count": 620,
   "metadata": {},
   "outputs": [
    {
     "data": {
      "text/plain": [
       "(array([1.        , 0.5       , 0.33333333, 0.25      , 0.2       ,\n",
       "        0.16666667, 0.14285714, 0.125     , 0.11111111, 0.1       ]),\n",
       " 0.2928968253968254,\n",
       " array([ 1.,  2.,  3.,  4.,  5.,  6.,  7.,  8.,  9., 10.]))"
      ]
     },
     "execution_count": 620,
     "metadata": {},
     "output_type": "execute_result"
    }
   ],
   "source": [
    "c = k = 10\n",
    "x = np.linspace(1,k,c)\n",
    "n = x.copy()\n",
    "x = 1 / x\n",
    "\n",
    "x, x.mean(),n"
   ]
  },
  {
   "cell_type": "code",
   "execution_count": 639,
   "metadata": {},
   "outputs": [
    {
     "name": "stdout",
     "output_type": "stream",
     "text": [
      "0.125 0.0 1.0 [1. 1. 1. 1. 1. 1. 1. 1. 1. 1.]\n",
      "0.1111111111111111 0.5294117647058824 0.47058823529411764 [1.         0.98617707 1.         1.         1.         1.\n",
      " 1.         1.         1.         1.        ]\n",
      "0.2 0.5414012738853503 0.4585987261146497 [1.         0.98617707 0.96744675 1.         1.         1.\n",
      " 1.         1.         1.         1.        ]\n",
      "0.5 0.4658753709198813 0.5341246290801187 [1.         0.98617707 0.96744675 1.03054299 1.         1.\n",
      " 1.         1.         1.         1.        ]\n"
     ]
    },
    {
     "data": {
      "text/plain": [
       "[<matplotlib.lines.Line2D at 0x7f1708d3f160>]"
      ]
     },
     "execution_count": 639,
     "metadata": {},
     "output_type": "execute_result"
    },
    {
     "data": {
      "image/png": "[encoded data removed]",
      "text/plain": [
       "<Figure size 432x288 with 1 Axes>"
      ]
     },
     "metadata": {},
     "output_type": "display_data"
    }
   ],
   "source": [
    "cost = 0\n",
    "j = 0\n",
    "rewards = np.zeros(c) + 1\n",
    "for m in range(c):\n",
    "    i = np.random.choice(x)\n",
    "    if cost + i > 1:\n",
    "        continue\n",
    "    y = cost / (cost + i )\n",
    "    z = i  / (cost + i )\n",
    "    cost += i \n",
    "    rewards[j] = 1 / (1 + math.e ** (-z * j)) + 1 / (1 + math.e ** (y * j))\n",
    "    j += 1\n",
    "    print(i,y,z,rewards)\n",
    "plt.plot(n, rewards)"
   ]
  },
  {
   "cell_type": "code",
   "execution_count": null,
   "metadata": {},
   "outputs": [],
   "source": []
  }
 ],
 "metadata": {
  "kernelspec": {
   "display_name": "Python 3",
   "language": "python",
   "name": "python3"
  },
  "language_info": {
   "codemirror_mode": {
    "name": "ipython",
    "version": 3
   },
   "file_extension": ".py",
   "mimetype": "text/x-python",
   "name": "python",
   "nbconvert_exporter": "python",
   "pygments_lexer": "ipython3",
   "version": "3.6.5"
  }
 },
 "nbformat": 4,
 "nbformat_minor": 2
}
