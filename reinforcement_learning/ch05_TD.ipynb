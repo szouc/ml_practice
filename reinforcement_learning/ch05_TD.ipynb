{
 "cells": [
  {
   "cell_type": "markdown",
   "metadata": {
    "slideshow": {
     "slide_type": "slide"
    }
   },
   "source": [
    "## Temporal-Difference Learning"
   ]
  },
  {
   "cell_type": "markdown",
   "metadata": {
    "slideshow": {
     "slide_type": "slide"
    }
   },
   "source": [
    "### 估计目标\n",
    "\n",
    "\n",
    "- MC 算法使用采样的算术平均值来估计 **价值函数的期望值** : $v_\\pi(s) \\dot= \\mathbb{E}_\\pi[G_t|S_t=s]$. (不需要 bootstrapping)\n",
    "\n",
    "\n",
    "- DP 算法因为了解 model 的状态转移概率,所以可以计算期望值,但是需要使用当前的 $V(S_{t+1})$ 来估计 **遵循 policy $\\pi$ 的下一个状态的价值函数** : $v_\\pi(s) \\dot= \\mathbb{E}_\\pi[R_{t+1} + \\gamma v_\\pi(S_{t+1})|S_t = s]$. (bootstrapping)\n",
    "\n",
    "\n",
    "- TD 算法对上两种情况都进行了估计. (采样 + bootstrapping)"
   ]
  },
  {
   "cell_type": "markdown",
   "metadata": {
    "slideshow": {
     "slide_type": "slide"
    }
   },
   "source": [
    "### 更新规则\n",
    "\n",
    "\n",
    "- MC:\n",
    "\n",
    "$$V(S_t) \\leftarrow V(S_t) + \\alpha \\left[ G_t - V(S_t)\\right]$$\n",
    "\n",
    "\n",
    "- TD(0):\n",
    "\n",
    "\n",
    "$$V(S_t) \\leftarrow V(S_t) + \\alpha \\left[R_{t+1} + \\gamma V(S_{t+1}) - V(S_t)\\right]$$\n",
    "\n",
    "\n",
    "- TD(0) 算法伪码:\n",
    "\n",
    "\n",
    "![TD(0)](../images/TD0.png)"
   ]
  },
  {
   "cell_type": "markdown",
   "metadata": {},
   "source": [
    "### TD error\n",
    "\n",
    "\n",
    "$$\\delta_t \\dot= R_{t+1} + \\gamma V(S_{t+1}) - V(S_t)$$\n",
    "\n",
    "\n",
    "- TD error $\\delta_t$ 是 $V(S_t)$ 的误差, 但只能在 t+1 时刻获得.\n",
    "\n",
    "\n",
    "- 如果每个片段的价值函数不变,那么 MC error 是 TD errors 的和.\n",
    "\n",
    "\n",
    "$$G_t - V(S_t) = \\sum_{k=t}^{T-1} \\gamma^{k-t} \\delta_k$$"
   ]
  },
  {
   "cell_type": "markdown",
   "metadata": {},
   "source": [
    "### Sarsa: On-policy TD control\n",
    "\n",
    "\n",
    "- sarsa 更新行为价值函数:\n",
    "\n",
    "\n",
    "$$Q(S_t,A_t) \\leftarrow Q(S_t, A_t) + \\alpha \\left[R_{t+1} + \\gamma Q(S_{t+1}, A_{t+1}) - Q(S_t,A_t)\\right]$$\n",
    "\n",
    "\n",
    "- 收敛条件:\n",
    "\n",
    "所有的状态行为对能被无限次的访问;同时策略也收敛.\n",
    "\n",
    "\n",
    "- 算法伪码:\n",
    "\n",
    "![Sarsa](../images/sarsa.png)"
   ]
  },
  {
   "cell_type": "markdown",
   "metadata": {},
   "source": [
    "### Q-learning: Off-policy TD Control\n",
    "\n",
    "\n",
    "- Q-learning 更新规则:\n",
    "\n",
    "\n",
    "$$Q(S_t,A_t) \\leftarrow Q(S_t, A_t) + \\alpha \\left[R_{t+1} + \\gamma \\max_{a} Q(S_{t+1}, a) - Q(S_t,A_t)\\right]$$\n",
    "\n",
    "\n",
    "- 收敛条件:\n",
    "\n",
    "所有的状态行为对能被持续更新.\n",
    "\n",
    "\n",
    "- 算法伪码:\n",
    "\n",
    "\n",
    "![q-learning](../images/q-learning.png)"
   ]
  },
  {
   "cell_type": "markdown",
   "metadata": {},
   "source": [
    "### Expected Sarsa\n",
    "\n",
    "\n",
    "- "
   ]
  }
 ],
 "metadata": {
  "kernelspec": {
   "display_name": "Python 3",
   "language": "python",
   "name": "python3"
  },
  "language_info": {
   "codemirror_mode": {
    "name": "ipython",
    "version": 3
   },
   "file_extension": ".py",
   "mimetype": "text/x-python",
   "name": "python",
   "nbconvert_exporter": "python",
   "pygments_lexer": "ipython3",
   "version": "3.6.5"
  },
  "toc": {
   "base_numbering": 1,
   "nav_menu": {},
   "number_sections": true,
   "sideBar": true,
   "skip_h1_title": false,
   "title_cell": "Table of Contents",
   "title_sidebar": "Contents",
   "toc_cell": false,
   "toc_position": {},
   "toc_section_display": true,
   "toc_window_display": false
  },
  "varInspector": {
   "cols": {
    "lenName": 16,
    "lenType": 16,
    "lenVar": 40
   },
   "kernels_config": {
    "python": {
     "delete_cmd_postfix": "",
     "delete_cmd_prefix": "del ",
     "library": "var_list.py",
     "varRefreshCmd": "print(var_dic_list())"
    },
    "r": {
     "delete_cmd_postfix": ") ",
     "delete_cmd_prefix": "rm(",
     "library": "var_list.r",
     "varRefreshCmd": "cat(var_dic_list()) "
    }
   },
   "types_to_exclude": [
    "module",
    "function",
    "builtin_function_or_method",
    "instance",
    "_Feature"
   ],
   "window_display": false
  }
 },
 "nbformat": 4,
 "nbformat_minor": 2
}
