{
 "cells": [
  {
   "cell_type": "markdown",
   "metadata": {},
   "source": [
    "## On-policy Control with Approximation"
   ]
  },
  {
   "cell_type": "markdown",
   "metadata": {},
   "source": [
    "### Episodic Semi-gradient Control\n",
    "\n",
    "\n",
    "首先定义$S_t, A_t \\mapsto U_t$, $U_t$ 是　$q_\\pi(S_t,A_t)$ 的任意近似．\n",
    "\n",
    "\n",
    "一般的梯度下降更新：\n",
    "\n",
    "\n",
    "$$\\mathbf{w}_{t+1} \\dot= \\mathbf{w}_t + \\alpha\\left[U_t - \\hat{q}(S_t, A_t, \\mathbf{w}_t)\\right]\\nabla \\hat{q}(S_t, A_t, \\mathbf{w}_t)$$\n",
    "\n",
    "\n",
    "- episodic semi-gradient one-step Sarsa：\n",
    "\n",
    "\n",
    "$$\\mathbf{w}_{t+1} \\dot= \\mathbf{w}_t + \\alpha\\left[R_{t+1} + \\gamma \\hat{q}(S_{t+1}, A_{t+1}, \\mathbf{w}_t) - \\hat{q}(S_t, A_t, \\mathbf{w}_t)\\right]\\nabla \\hat{q}(S_t, A_t, \\mathbf{w}_t)$$\n",
    "\n",
    "\n",
    "算法伪码：\n",
    "\n",
    "\n",
    "![episodic_semi-gradient_sarsa](../images/episodic_semi-gradient_sarsa.png)"
   ]
  },
  {
   "cell_type": "markdown",
   "metadata": {},
   "source": []
  }
 ],
 "metadata": {
  "kernelspec": {
   "display_name": "Python 3",
   "language": "python",
   "name": "python3"
  },
  "language_info": {
   "codemirror_mode": {
    "name": "ipython",
    "version": 3
   },
   "file_extension": ".py",
   "mimetype": "text/x-python",
   "name": "python",
   "nbconvert_exporter": "python",
   "pygments_lexer": "ipython3",
   "version": "3.6.5"
  },
  "toc": {
   "base_numbering": 1,
   "nav_menu": {},
   "number_sections": true,
   "sideBar": true,
   "skip_h1_title": false,
   "title_cell": "Table of Contents",
   "title_sidebar": "Contents",
   "toc_cell": false,
   "toc_position": {},
   "toc_section_display": true,
   "toc_window_display": false
  },
  "varInspector": {
   "cols": {
    "lenName": 16,
    "lenType": 16,
    "lenVar": 40
   },
   "kernels_config": {
    "python": {
     "delete_cmd_postfix": "",
     "delete_cmd_prefix": "del ",
     "library": "var_list.py",
     "varRefreshCmd": "print(var_dic_list())"
    },
    "r": {
     "delete_cmd_postfix": ") ",
     "delete_cmd_prefix": "rm(",
     "library": "var_list.r",
     "varRefreshCmd": "cat(var_dic_list()) "
    }
   },
   "types_to_exclude": [
    "module",
    "function",
    "builtin_function_or_method",
    "instance",
    "_Feature"
   ],
   "window_display": false
  }
 },
 "nbformat": 4,
 "nbformat_minor": 2
}
