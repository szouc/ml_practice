{
 "cells": [
  {
   "cell_type": "markdown",
   "metadata": {},
   "source": [
    "# 强化学习导论"
   ]
  },
  {
   "cell_type": "markdown",
   "metadata": {},
   "source": [
    "## 非关联性(nonassociative) 简单场景"
   ]
  },
  {
   "cell_type": "markdown",
   "metadata": {},
   "source": [
    "### 评价性反馈的基础概念\n",
    "\n",
    "- 假定在时间步 t 时,智能体所作出的 action 是 $A_t$, 环境响应的 reward 是 $R_t$, 那么对于任意的 action ($\\forall{a}$), 所期望获得的 reward 定义为:\n",
    "$$q_*(a) \\dot= \\mathbb{E}[R_t|A_t = a]$$\n",
    "\n",
    "- 由于无法获知 R 的分布情况,即无法知道 R 的期望值,所以需要对其进行评估.根据大数定理可知,可以使用算数均值来逼近期望值,定义:\n",
    "$$Q_t(a) \\dot= \\frac{\\sum_{i=1}^{t-1}R_i \\cdot{\\mathbb{1}_{A_i=a}}}{\\sum_{i=1}^{t-1} \\mathbb{1}_{A_i=a}}$$\n",
    "当 $\\sum_{i=1}^{t-1} \\mathbb{1}_{A_i=a} \\to \\infty$ 时, $Q_t(a)\\to q_*(a)$;当分母为零时,另外给 $Q_t(a)$ 设置一个初始值,通常取 0."
   ]
  },
  {
   "cell_type": "markdown",
   "metadata": {},
   "source": [
    "### 优化计算\n",
    "\n",
    "- 执行 n-1 次 action $a$ 后的 $Q_n(a) \\dot= \\frac{R_1 + R_2 + \\cdots + R_{n-1}}{n-1}$,可以通过递增计算来替换:\n",
    "$$Q_{n+1} = \\frac{1}{n} \\sum_{i=1}^{n} R_i= Q_n + \\frac{1}{n}(R_n - Q_n)$$\n",
    "\n",
    "- 上式随着 n 的增加,新获得的奖励所产生影响会越来越小,这并不符合现实的情况,通常我们重点学习的反而是新获得的奖励,因此将影响因子设置为常数:\n",
    "$$Q_{n+1} \\dot= Q_n+ \\alpha(R_n - Q_n)  (\\alpha \\in (0,1])$$\n",
    "继续展开得到:\n",
    "$$Q_{n+1} = (1-\\alpha)^nQ_1 + \\sum_{i=1}^{n}(1 - \\alpha)^{n-i}\\alpha R_i$$\n",
    "根据:\n",
    "$$(1-\\alpha)^n + \\sum_{i=1}^{n}(1 - \\alpha)^{n-i}\\alpha = 1$$\n",
    "上式称为**指数近因加权平均(Exponential Recency-weighted Average)**,从中可以看出,随着 i 的增加, $R_i$ 的影响也在增加."
   ]
  },
  {
   "cell_type": "code",
   "execution_count": null,
   "metadata": {},
   "outputs": [],
   "source": []
  }
 ],
 "metadata": {
  "kernelspec": {
   "display_name": "Python 3",
   "language": "python",
   "name": "python3"
  },
  "language_info": {
   "codemirror_mode": {
    "name": "ipython",
    "version": 3
   },
   "file_extension": ".py",
   "mimetype": "text/x-python",
   "name": "python",
   "nbconvert_exporter": "python",
   "pygments_lexer": "ipython3",
   "version": "3.6.5"
  }
 },
 "nbformat": 4,
 "nbformat_minor": 2
}
