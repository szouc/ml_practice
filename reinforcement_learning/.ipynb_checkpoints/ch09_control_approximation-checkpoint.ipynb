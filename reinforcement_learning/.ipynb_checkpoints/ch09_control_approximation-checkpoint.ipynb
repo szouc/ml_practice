{
 "cells": [
  {
   "cell_type": "markdown",
   "metadata": {},
   "source": [
    "## On-policy Control with Approximation"
   ]
  },
  {
   "cell_type": "markdown",
   "metadata": {},
   "source": [
    "### Episodic Semi-gradient Control\n",
    "\n",
    "\n",
    "首先定义$S_t, A_t \\mapsto U_t$, $U_t$ 是　$q_\\pi(S_t,A_t)$ 的任意近似．\n",
    "\n",
    "\n",
    "一般的梯度下降更新：\n",
    "\n",
    "\n",
    "$$\\mathbf{w}_{t+1} \\dot= \\mathbf{w}_t + \\alpha\\left[U_t - \\hat{q}(S_t, A_t, \\mathbf{w}_t)\\right]\\nabla \\hat{q}(S_t, A_t, \\mathbf{w}_t)$$\n",
    "\n",
    "\n",
    "- episodic semi-gradient one-step Sarsa：\n",
    "\n",
    "\n",
    "$$\\mathbf{w}_{t+1} \\dot= \\mathbf{w}_t + \\alpha\\left[R_{t+1} + \\gamma \\hat{q}(S_{t+1}, A_{t+1}, \\mathbf{w}_t) - \\hat{q}(S_t, A_t, \\mathbf{w}_t)\\right]\\nabla \\hat{q}(S_t, A_t, \\mathbf{w}_t)$$\n",
    "\n",
    "\n",
    "算法伪码：\n",
    "\n",
    "\n",
    "![episodic_semi-gradient_sarsa](../images/episodic_semi-gradient_sarsa.png)"
   ]
  },
  {
   "cell_type": "markdown",
   "metadata": {},
   "source": [
    "### Semi-gradient n-step Sarsa\n",
    "\n",
    "\n",
    "- n-step Q-return:\n",
    "\n",
    "\n",
    "$$G_{t:t+n} \\dot= R_{t+1} + \\gamma R_{t+2} + \\cdots + \\gamma^{n-1}R_{t+n}+\\gamma^n\\hat{q}(S_{t+n}, A_{t+n}, \\mathbf{w}_{t+n-1}), t+n < T$$\n",
    "\n",
    "\n",
    "- n-step update equation:\n",
    "\n",
    "\n",
    "$$\\mathbf{w}_{t+n} \\dot= \\mathbf{w}_{t+n-1} + \\alpha \\left[G_{t:t+n}-\\hat{q}(S_t,A_t,\\mathbf{w}_{t+n-1})\\right]\\nabla\\hat{q}(S_t,A_t,\\mathbf{w}_{t+n-1})$$\n",
    "\n",
    "\n",
    "- 算法伪码：\n",
    "\n",
    "\n",
    "![semi-gradient_n-step_sarsa](../images/semi-gradient_n-step_sarsa.png)"
   ]
  },
  {
   "cell_type": "markdown",
   "metadata": {},
   "source": [
    "### Average Reward\n",
    "\n",
    "\n",
    "马尔科夫决策过程除了可以设置成片段方式和折扣方式外，还可以设置成平均收益方式。这种设置下，策略的优劣由平均收益来衡量。\n",
    "\n",
    "\n",
    "$$r(\\pi)\\dot=\\lim_{h\\to\\infty}\\frac{1}{h}\\sum^h_{t=1}\\mathbb{E}[R_t|S_0,A_{0:t-1}\\sim\\pi] = \\lim_{t\\to\\infty}\\mathbb{E}[R_t|S_0,A_{0:t-1} \\sim \\pi] $$\n",
    "\n",
    "$$= \\sum_s\\mu_\\pi(s)\\sum_a\\pi(a|s)\\sum_{s',r}p(s',r|s,a)r$$\n",
    "\n",
    "\n",
    "其中 $\\mu_\\pi\\dot=\\lim_{t\\to\\infty}Pr\\{S_t=s|A_{0:t-1}\\sim\\pi\\}$ 为稳态分布。这里假设 $\\mu_\\pi$ 对任意 $\\pi$ 都存在而且独立于 $S_0$，我们称这种假设为**各态遍历性**（ergodicity）。 这意味着各个状态的收益只与策略和状态转移概率有关，与 MDP 的初始设置以及早期的决策无关。\n",
    "\n",
    "\n",
    "因为 $\\mu_\\pi$ 是稳态分布，所以如果根据策略 $\\pi$ 执行行为后依然在同一分布中：\n",
    "\n",
    "\n",
    "$$\\sum_s\\mu_\\pi(s)\\sum_a\\pi(a|s)p(s'|s,a) = \\mu_\\pi(s')$$\n",
    "\n",
    "\n",
    "- differential return 差分回报\n",
    "\n",
    "\n",
    "在平均收益方式中，回报（return）根据收益与平均收益的差进行定义，称为**差分回报**：\n",
    "\n",
    "\n",
    "$$G_t\\dot=R_{t+1} - r(\\pi) + R_{t+2} - r(\\pi) + R_{t+3} - r(\\pi) + \\cdots$$\n",
    "\n",
    "\n",
    "- differentail value function 差分价值函数\n",
    "\n",
    "\n",
    "根据差分回报，给出差分价值函数和差分行为价值函数：\n",
    "\n",
    "\n",
    "$$v_\\pi(s) = \\sum_a\\pi(a|s)\\sum_{r,s'}p(s',r|s,a)\\left[r-r(\\pi)+v_\\pi(s')\\right]$$\n",
    "\n",
    "\n",
    "$$q_\\pi(s,a) = \\sum_{r,s'}p(s',r|s,a)\\left[r-r(\\pi)+\\sum_{a'}\\pi(a'|s')q_\\pi(s',a')\\right]$$\n",
    "\n",
    "\n",
    "- TD errors\n",
    "\n",
    "\n",
    "$$\\delta_t\\dot=R_{t+1}-\\bar{R}_t+\\hat{v}(S_{t+1},\\mathbf{w}_t)-\\hat{v}(S_t,\\mathbf{w}_t)$$\n",
    "\n",
    "\n",
    "$$\\delta_t\\dot=R_{t+1}-\\bar{R}_t+\\hat{q}(S_{t+1},A_{t+1},\\mathbf{w}_t)-\\hat{q}(S_t,A_t,\\mathbf{w}_t)$$\n",
    "\n",
    "\n",
    "其中 $\\bar{R}_t$ 是 $r(\\pi)$ 在 t 时刻的估计。\n",
    "\n",
    "\n",
    "- 平均收益估计法\n",
    "\n",
    "\n",
    "$$\\mathbf{w}_{t+1}\\dot=\\mathbf{w}_t+\\alpha \\delta_t \\nabla \\hat{q}(S_t,A_t,\\mathbf{w}_t)$$\n",
    "\n",
    "\n",
    "算法伪码：\n",
    "\n",
    "![differential_semi-gradient_sarsa](../images/differential_semi-gradient_sarsa.png)"
   ]
  },
  {
   "cell_type": "markdown",
   "metadata": {},
   "source": [
    "### Deprecating the Discounted Setting\n",
    "\n",
    "\n",
    "- 在表格式算法中，折扣系数可以分别标识和平均每个状态的返回值。\n",
    "\n",
    "\n",
    "- 逼近法中，折扣系数没有意义。\n",
    "\n",
    "\n",
    "![futility_discounting](../images/futility_discounting.png)"
   ]
  },
  {
   "cell_type": "markdown",
   "metadata": {},
   "source": [
    "### Differential Semi-gradient n-step Sarsa\n",
    "\n",
    "\n",
    "为了生成 n-step bootstrapping ，我们需要定义 n-step 版本的 TD error。\n",
    "\n",
    "\n",
    "$$G_{t:t+n}\\dot=R_{t+1}-\\bar{R}_{t+n-1}+\\cdots+R_{t+n}-\\bar{R}_{t+n-1}+\\hat{q}(S_{t+n},A_{t+n},\\mathbf{w}_{t+n-1})$$\n",
    "\n",
    "\n",
    "其中 $\\bar{R}$ 是 $r(\\pi)$ 的近似，因此 TD error：\n",
    "\n",
    "\n",
    "$$\\delta_t\\dot=G_{t:t+n} - \\hat{q}(S_t,A_t,\\mathbf{w})$$\n",
    "\n",
    "\n",
    "- 算法伪码：\n",
    "\n",
    "\n",
    "![differential_semi-gradient_n-step_sarsa](../images/differential_semi-gradient_n-step_sarsa.png)"
   ]
  },
  {
   "cell_type": "code",
   "execution_count": null,
   "metadata": {},
   "outputs": [],
   "source": []
  }
 ],
 "metadata": {
  "kernelspec": {
   "display_name": "Python 3",
   "language": "python",
   "name": "python3"
  },
  "language_info": {
   "codemirror_mode": {
    "name": "ipython",
    "version": 3
   },
   "file_extension": ".py",
   "mimetype": "text/x-python",
   "name": "python",
   "nbconvert_exporter": "python",
   "pygments_lexer": "ipython3",
   "version": "3.6.5"
  },
  "toc": {
   "base_numbering": 1,
   "nav_menu": {},
   "number_sections": true,
   "sideBar": true,
   "skip_h1_title": false,
   "title_cell": "Table of Contents",
   "title_sidebar": "Contents",
   "toc_cell": false,
   "toc_position": {},
   "toc_section_display": true,
   "toc_window_display": false
  },
  "varInspector": {
   "cols": {
    "lenName": 16,
    "lenType": 16,
    "lenVar": 40
   },
   "kernels_config": {
    "python": {
     "delete_cmd_postfix": "",
     "delete_cmd_prefix": "del ",
     "library": "var_list.py",
     "varRefreshCmd": "print(var_dic_list())"
    },
    "r": {
     "delete_cmd_postfix": ") ",
     "delete_cmd_prefix": "rm(",
     "library": "var_list.r",
     "varRefreshCmd": "cat(var_dic_list()) "
    }
   },
   "types_to_exclude": [
    "module",
    "function",
    "builtin_function_or_method",
    "instance",
    "_Feature"
   ],
   "window_display": false
  }
 },
 "nbformat": 4,
 "nbformat_minor": 2
}
