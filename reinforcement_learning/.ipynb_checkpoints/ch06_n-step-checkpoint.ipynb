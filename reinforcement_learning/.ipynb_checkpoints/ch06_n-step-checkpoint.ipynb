{
 "cells": [
  {
   "cell_type": "markdown",
   "metadata": {},
   "source": [
    "## n-step Bootstrapping"
   ]
  },
  {
   "cell_type": "markdown",
   "metadata": {},
   "source": [
    "### n-step updates\n",
    "\n",
    "\n",
    "![n-step_updates](../images/n-step_updates.png)\n",
    "\n",
    "\n",
    "- MC updates:\n",
    "\n",
    "\n",
    "$$G_t \\dot= R_{t+1} + \\gamma R_{t+2} + \\gamma^2 R_{t+3} + \\cdots + \\gamma^{T-t-1} R_T$$\n",
    "\n",
    "\n",
    "- one-step return:\n",
    "\n",
    "\n",
    "$$G_{t:t+1} \\dot= R_{t+1} + \\gamma V_t(S_{t+1})$$\n",
    "\n",
    "\n",
    "其中 $V_t: \\mathcal{S} \\to \\mathbb{R}$ 是 t 时刻 $v_\\pi$ 的估计.\n",
    "\n",
    "\n",
    "- two-step return:\n",
    "\n",
    "\n",
    "$$G_{t:t+2} \\dot= R_{t+1} + \\gamma R_{t+2} + \\gamma^2 V_{t+1}(S_{t+2})$$\n",
    "\n",
    "\n",
    "- n-step return:\n",
    "\n",
    "\n",
    "$$G_{t:t+n} \\dot= R_{t+1} + \\gamma R_{t+2} + \\cdots + \\gamma^{n-1} R_{t+n} + \\gamma^n V_{t+n-1}(S_{t+n})$$\n",
    "\n",
    "\n",
    "- n-step updates:\n",
    "\n",
    "\n",
    "$$V_{t+n}(S_t) \\dot= V_{t+n-1}(S_t) + \\alpha \\left[G_{t:t+n} - V_{t+n-1}(S_t)\\right]$$"
   ]
  },
  {
   "cell_type": "markdown",
   "metadata": {},
   "source": [
    "### n-step TD\n",
    "\n",
    "\n",
    "- 算法伪码:\n",
    "\n",
    "\n",
    "![n-step_TD](../images/n-step_TD.png)"
   ]
  },
  {
   "cell_type": "markdown",
   "metadata": {},
   "source": [
    "### n-step Sarsa\n",
    "\n",
    "\n",
    "- n-step returns (行为价值函数):\n",
    "\n",
    "\n",
    "$$G_{t:t+n} \\dot= R_{t+1} + \\gamma R_{t+2} + \\cdots + \\gamma^{n-1} R_{t+n} + \\gamma^n Q_{t+n-1}(S_{t+n}, A_{t+n})$$\n",
    "\n",
    "\n",
    "$G_{t:t+n}\\dot=G_t$ 当 $t+n \\ge T$ 时.\n",
    "\n",
    "\n",
    "- 更新算法:\n",
    "\n",
    "\n",
    "$$Q_{t+n}(S_t,A_t)\\dot=Q_{t+n-1}(S_t,A_t) + \\alpha \\left[G_{t:t+n} - Q_{t+n-1}(S_t, A_t)\\right]$$\n",
    "\n",
    "\n",
    "- 算法伪码:\n",
    "\n",
    "\n",
    "![n-step_Sarsa](../images/n-step_Sarsa.png)"
   ]
  },
  {
   "cell_type": "markdown",
   "metadata": {},
   "source": []
  }
 ],
 "metadata": {
  "kernelspec": {
   "display_name": "Python 3",
   "language": "python",
   "name": "python3"
  },
  "language_info": {
   "codemirror_mode": {
    "name": "ipython",
    "version": 3
   },
   "file_extension": ".py",
   "mimetype": "text/x-python",
   "name": "python",
   "nbconvert_exporter": "python",
   "pygments_lexer": "ipython3",
   "version": "3.6.5"
  },
  "toc": {
   "base_numbering": 1,
   "nav_menu": {},
   "number_sections": true,
   "sideBar": true,
   "skip_h1_title": false,
   "title_cell": "Table of Contents",
   "title_sidebar": "Contents",
   "toc_cell": false,
   "toc_position": {},
   "toc_section_display": true,
   "toc_window_display": false
  },
  "varInspector": {
   "cols": {
    "lenName": 16,
    "lenType": 16,
    "lenVar": 40
   },
   "kernels_config": {
    "python": {
     "delete_cmd_postfix": "",
     "delete_cmd_prefix": "del ",
     "library": "var_list.py",
     "varRefreshCmd": "print(var_dic_list())"
    },
    "r": {
     "delete_cmd_postfix": ") ",
     "delete_cmd_prefix": "rm(",
     "library": "var_list.r",
     "varRefreshCmd": "cat(var_dic_list()) "
    }
   },
   "types_to_exclude": [
    "module",
    "function",
    "builtin_function_or_method",
    "instance",
    "_Feature"
   ],
   "window_display": false
  }
 },
 "nbformat": 4,
 "nbformat_minor": 2
}
